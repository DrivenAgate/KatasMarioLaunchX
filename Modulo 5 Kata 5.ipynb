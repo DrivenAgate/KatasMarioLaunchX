{
 "cells": [
  {
   "cell_type": "markdown",
   "metadata": {},
   "source": [
    "## Utilizar operadores aritméticos"
   ]
  },
  {
   "cell_type": "code",
   "execution_count": 7,
   "metadata": {},
   "outputs": [
    {
     "name": "stdout",
     "output_type": "stream",
     "text": [
      "628949330  Km\n",
      "390577534  Millas\n"
     ]
    }
   ],
   "source": [
    "#Crear variables para almacenar las dos distancias\n",
    "tierra = 149597870\n",
    "jupiter = 778547200\n",
    "\n",
    "#Calcular la distancia entre planetas\n",
    "\n",
    "distancia_1 = tierra - jupiter\n",
    "distancia_2 = (jupiter - tierra) * 0.621\n",
    "\n",
    "print(abs(distancia_1), ' Km')\n",
    "print(round(distancia_2), ' Millas')"
   ]
  },
  {
   "cell_type": "markdown",
   "metadata": {},
   "source": [
    "## Convierte cadenas en números y usa valores absolutos"
   ]
  },
  {
   "cell_type": "code",
   "execution_count": 9,
   "metadata": {},
   "outputs": [
    {
     "name": "stdout",
     "output_type": "stream",
     "text": [
      "50300000  Km\n",
      "31236300.0  Millas\n"
     ]
    }
   ],
   "source": [
    "# Almacenar las entradas del usuario\n",
    "\n",
    "distancia = input(\"Distancia del sol del planeta 1: \")\n",
    "distancia2 = input(\"Distancia del sol del planeta 2: \")\n",
    "\n",
    "#Convertir a número\n",
    "\n",
    "distancia = int(distancia)\n",
    "\n",
    "distancia2 = int(distancia2)\n",
    "\n",
    "#Realizar el cálculo y determinar el valor absoluto\n",
    "\n",
    "calculo = distancia - distancia2\n",
    "\n",
    "print(abs(calculo), ' Km')\n",
    "\n",
    "#Convertir de Km a Millas\n",
    "\n",
    "calculo *= 0.621\n",
    "\n",
    "print(abs(calculo), ' Millas')\n"
   ]
  }
 ],
 "metadata": {
  "interpreter": {
   "hash": "9514512f9c4fd6ea0c66df77f1850523054dfc145b7b0eca535f1071354c6747"
  },
  "kernelspec": {
   "display_name": "Python 3.10.2 64-bit",
   "language": "python",
   "name": "python3"
  },
  "language_info": {
   "codemirror_mode": {
    "name": "ipython",
    "version": 3
   },
   "file_extension": ".py",
   "mimetype": "text/x-python",
   "name": "python",
   "nbconvert_exporter": "python",
   "pygments_lexer": "ipython3",
   "version": "3.10.2"
  },
  "orig_nbformat": 4
 },
 "nbformat": 4,
 "nbformat_minor": 2
}
